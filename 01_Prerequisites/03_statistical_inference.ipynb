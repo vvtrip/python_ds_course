{
  "nbformat": 4,
  "nbformat_minor": 0,
  "metadata": {
    "colab": {
      "provenance": [],
      "authorship_tag": "ABX9TyPzpnfziaz07s1OBGDWWF+p"
    },
    "kernelspec": {
      "name": "python3",
      "display_name": "Python 3"
    },
    "language_info": {
      "name": "python"
    }
  },
  "cells": [
    {
      "cell_type": "markdown",
      "source": [
        "**Point Estimate**\n",
        "\n",
        "Any stats about a sample of population can be called as Point Estimate\n",
        "like sample mean(x bar) or standard error(sigma/root(N)) where N is the sample size.\n",
        "\n",
        "In Inferential statistics we can never be sure about exact values of point estimates because there can be some margin of error. We can rather say an interval of that point estimate is possible.\n",
        "\n",
        "In context of the Central Limit theorem:\n",
        "\n",
        "Considder an example:\n",
        "\n",
        "If population mean is 80 and standard deviation is 10, if a sample of size N=25 is picked and sample mean(x bar) observed is 90, then 90 is 5 standard error(1 standard error  = standard deviation/root(N)) from population mean of 80, which is a very highly unlikely scenario(z score of 5). So rather than saying the Point estimate in terms of sample mean is 90, we can say interval estimate of sample mean around 90(with a confidence interval of mu-lowerbound and mu-ubberbound), because there can be some margin of errors"
      ],
      "metadata": {
        "id": "n-22gjgOPjG_"
      }
    },
    {
      "cell_type": "code",
      "execution_count": null,
      "metadata": {
        "id": "2M6NHAfYI2sx"
      },
      "outputs": [],
      "source": []
    }
  ]
}