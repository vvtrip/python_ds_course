{
  "nbformat": 4,
  "nbformat_minor": 0,
  "metadata": {
    "colab": {
      "provenance": [],
      "authorship_tag": "ABX9TyMbCa6oi2oFSRrNoR3A6mUG",
      "include_colab_link": true
    },
    "kernelspec": {
      "name": "python3",
      "display_name": "Python 3"
    },
    "language_info": {
      "name": "python"
    }
  },
  "cells": [
    {
      "cell_type": "markdown",
      "metadata": {
        "id": "view-in-github",
        "colab_type": "text"
      },
      "source": [
        "<a href=\"https://colab.research.google.com/github/vvtrip/python_ds_course/blob/master/01_Prerequisites/02_probability_and_its_usecases.ipynb\" target=\"_parent\"><img src=\"https://colab.research.google.com/assets/colab-badge.svg\" alt=\"Open In Colab\"/></a>"
      ]
    },
    {
      "cell_type": "markdown",
      "source": [
        "Random Experiment\n",
        "  - An experiment or a process for which outcome can't be predicted with certainty\n",
        "\n",
        "Sample Space\n",
        "  - The entire possible set of outcomes of a random experiment is the sample space (S) of that experiment\n",
        "\n",
        "Event\n",
        "  - A set of outcomes of an experiment, it is a subset of S\n",
        "\n",
        "  ---\n",
        "\n",
        "Rules of Probability\n",
        " - For any event A, P($A^C$) = 1 - P(A)\n",
        " - If A  $ ⊂ $ B, then P(A) $≤$ P(B)\n",
        " - For any two events  A and B:\n",
        "   - P(A $\\cup$ B) = P(A) + P(B) - P(A $ ∩$ B) (addition rule)\n",
        " - When A and B are disjoint, P(A and B)  = 0\n",
        "    \n",
        "    Hence P(A or B) = P(A) + P(B)\n",
        " - For three events, A, B and C:\n",
        "\n",
        "    P(A $\\cup$ B $\\cup$ C) = P(A) + P(B) + P(C) - P(A $\\cap$ B) - P(B $\\cap$ c) - P(A $\\cap$ C) + P(A $\\cap$ B $\\cap$ C)\n"
      ],
      "metadata": {
        "id": "EdsyZHl-1VnH"
      }
    },
    {
      "cell_type": "markdown",
      "source": [
        "---\n",
        "Types of Events\n",
        "\n",
        "Disjoint Events\n",
        "  - do not have any common outcomes\n",
        "\n",
        "Non-Disjoint Events\n",
        "  - can have common outcomes\n",
        "\n",
        "Independent Events\n",
        "  - occurrence of one does not affect the probability of the other\n",
        "  - Product rule of Independent Events : P(A and B) = P(A) * P(B)\n",
        "  - outcomes of two balls in a cricket match are independent"
      ],
      "metadata": {
        "id": "27XbmZJbYluL"
      }
    },
    {
      "cell_type": "code",
      "execution_count": null,
      "metadata": {
        "id": "WaJYjt_Hzsfd"
      },
      "outputs": [],
      "source": [
        "\n"
      ]
    }
  ]
}