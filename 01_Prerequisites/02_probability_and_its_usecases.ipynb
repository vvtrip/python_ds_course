{
  "nbformat": 4,
  "nbformat_minor": 0,
  "metadata": {
    "colab": {
      "provenance": [],
      "authorship_tag": "ABX9TyPX1w+hgjujs+XBY/jt1c7c",
      "include_colab_link": true
    },
    "kernelspec": {
      "name": "python3",
      "display_name": "Python 3"
    },
    "language_info": {
      "name": "python"
    }
  },
  "cells": [
    {
      "cell_type": "markdown",
      "metadata": {
        "id": "view-in-github",
        "colab_type": "text"
      },
      "source": [
        "<a href=\"https://colab.research.google.com/github/vvtrip/python_ds_course/blob/master/01_Prerequisites/02_probability_and_its_usecases.ipynb\" target=\"_parent\"><img src=\"https://colab.research.google.com/assets/colab-badge.svg\" alt=\"Open In Colab\"/></a>"
      ]
    },
    {
      "cell_type": "markdown",
      "source": [
        "Random Experiment\n",
        "  - An experiment or a process for which outcome can't be predicted with certainty\n",
        "\n",
        "Sample Space\n",
        "  - The entire possible set of outcomes of a random experiment is the sample space (S) of that experiment\n",
        "\n",
        "Event\n",
        "  - A set of outcomes of an experiment, it is a subset of S  "
      ],
      "metadata": {
        "id": "EdsyZHl-1VnH"
      }
    },
    {
      "cell_type": "code",
      "execution_count": null,
      "metadata": {
        "id": "WaJYjt_Hzsfd"
      },
      "outputs": [],
      "source": []
    }
  ]
}