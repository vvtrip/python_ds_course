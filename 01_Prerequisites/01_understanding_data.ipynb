{
  "nbformat": 4,
  "nbformat_minor": 0,
  "metadata": {
    "colab": {
      "provenance": []
    },
    "kernelspec": {
      "name": "python3",
      "display_name": "Python 3"
    },
    "language_info": {
      "name": "python"
    }
  },
  "cells": [
    {
      "cell_type": "markdown",
      "source": [
        "---\n",
        "\n",
        "Qualitative data\n",
        "- Nominal (Apple, Orange, Banana)\n",
        "- Ordinal (Poor, Average, Good)\n",
        "- Binary (Male, Female)\n",
        "\n",
        "Quantitative data\n",
        "- Discrete (number of students in each class)\n",
        "- Continuous (weight of each student in kg)\n",
        "\n",
        "---\n",
        "\n",
        "Variables\n",
        "- Qualitative (that can be put into categories, ex- male, female)\n",
        "- Independent (not affected by other factors)\n",
        "- Dependent (outcome of an experiment)\n",
        "- Confounding (extra variables having hidden effects on experimental result)\n",
        "- Control (a factor in an experiment which must be held constant)\n",
        "\n",
        "---\n",
        "\n",
        "Non Experimental Research/ Observational study\n",
        "- Here the researcher doesn't manipualte the independent variables\n",
        "- This is not to say that it is impossible to do so, but it would be impractical.\n",
        "- Due to various factors like\n",
        "    \n",
        "    - limited numbers of independent variables present  in the data\n",
        "    - probability of data being biased because source is unknown and not under control\n",
        "    - possible presence of confounding variables\n",
        "  \n",
        "  we tend to provide correlation ✅ instead of causation  (strong statement) ❌\n",
        "- Correlation: People getting more sleep often tend to have better memory\n",
        "- Causation: More you sleep better your memory\n",
        "\n",
        "---\n",
        "\n",
        "Experimental research\n",
        "- Greater control over environment and variables\n",
        "- blind and double blind experiment (when subject and both subject-observer do no have idea of identity of experimental data being collected, and identity of subject) to avoid bias of both subject and researcher/experimenter\n",
        "- Practically, the goal is to have as much as control variables and less or minimum confounding variables\n",
        "\n",
        "---\n",
        "Population\n",
        "- A collection or set of individual or objects or events whose properties are to be analysed\n",
        "- Its observation is called parameter. ex- population mean( μ) is a parameter\n",
        "\n",
        "Sample\n",
        "- A subset of population is called 'Sample'. A well chosen sample will contain most of the information about a particular population parameter.\n",
        "- Its observation is called statistics. ex- sample mean( ̄x ) is a statistical measure"
      ],
      "metadata": {
        "id": "NTiAwzBqHZOe"
      }
    },
    {
      "cell_type": "code",
      "execution_count": null,
      "metadata": {
        "id": "lTPWNtksEji3"
      },
      "outputs": [],
      "source": []
    }
  ]
}